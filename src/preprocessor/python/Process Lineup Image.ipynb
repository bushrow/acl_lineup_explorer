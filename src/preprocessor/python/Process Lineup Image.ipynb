{
 "cells": [
  {
   "cell_type": "code",
   "execution_count": 1,
   "id": "2e16faf7",
   "metadata": {},
   "outputs": [],
   "source": [
    "import json\n",
    "\n",
    "from lineup_parser import LineupParser\n",
    "from spotify_linker import SpotifyLinker"
   ]
  },
  {
   "cell_type": "code",
   "execution_count": 2,
   "id": "70ab24ef",
   "metadata": {},
   "outputs": [],
   "source": [
    "lineup_dir = \"../../../data\"\n",
    "\n",
    "l = LineupParser(filename=f\"{lineup_dir}lineup.jpg\")\n",
    "l.parse_lineup()"
   ]
  },
  {
   "cell_type": "code",
   "execution_count": 3,
   "id": "d4d5a839",
   "metadata": {},
   "outputs": [],
   "source": [
    "artists_lineup_data = l.parse_artist_names()"
   ]
  },
  {
   "cell_type": "code",
   "execution_count": 4,
   "id": "185b0358",
   "metadata": {},
   "outputs": [],
   "source": [
    "secrets = json.load(open(\"./secrets.json\"))\n",
    "sl = SpotifyLinker(\n",
    "    client_id=secrets[\"SPOTIFY_CLIENT_ID\"],\n",
    "    client_secret=secrets[\"SPOTIFY_CLIENT_SECRET\"],\n",
    ")"
   ]
  },
  {
   "cell_type": "code",
   "execution_count": 5,
   "id": "e7bd6d77",
   "metadata": {},
   "outputs": [],
   "source": [
    "json_data = []\n",
    "for artist_lineup_info in artists_lineup_data:\n",
    "    artist_name = artist_lineup_info[\"artist\"]\n",
    "    artist_spotify_data = sl.load_data_for_artist(artist_name)\n",
    "    json_data.append({\"lineup\": artist_lineup_info, \"spotify\": artist_spotify_data})"
   ]
  },
  {
   "cell_type": "code",
   "execution_count": 6,
   "id": "1c929a4c",
   "metadata": {},
   "outputs": [],
   "source": [
    "with open(f\"{lineup_dir}artists.json\", \"w\") as wrtr:\n",
    "    json.dump(json_data, wrtr, indent=2)"
   ]
  }
 ],
 "metadata": {
  "kernelspec": {
   "display_name": "Python 3 (ipykernel)",
   "language": "python",
   "name": "python3"
  },
  "language_info": {
   "codemirror_mode": {
    "name": "ipython",
    "version": 3
   },
   "file_extension": ".py",
   "mimetype": "text/x-python",
   "name": "python",
   "nbconvert_exporter": "python",
   "pygments_lexer": "ipython3",
   "version": "3.10.2"
  }
 },
 "nbformat": 4,
 "nbformat_minor": 5
}
